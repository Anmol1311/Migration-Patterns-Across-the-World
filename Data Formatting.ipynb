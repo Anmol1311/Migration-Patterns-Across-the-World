{
 "cells": [
  {
   "cell_type": "code",
   "execution_count": 1,
   "id": "ed8d1e6c",
   "metadata": {},
   "outputs": [],
   "source": [
    "import pandas as pd"
   ]
  },
  {
   "cell_type": "code",
   "execution_count": 4,
   "id": "bfde62ab",
   "metadata": {},
   "outputs": [
    {
     "name": "stdout",
     "output_type": "stream",
     "text": [
      "Collecting xlrd\n",
      "  Downloading xlrd-2.0.1-py2.py3-none-any.whl (96 kB)\n",
      "\u001b[2K     \u001b[90m━━━━━━━━━━━━━━━━━━━━━━━━━━━━━━━━━━━━━━━━\u001b[0m \u001b[32m96.5/96.5 kB\u001b[0m \u001b[31m4.0 MB/s\u001b[0m eta \u001b[36m0:00:00\u001b[0m\n",
      "\u001b[?25hInstalling collected packages: xlrd\n",
      "Successfully installed xlrd-2.0.1\n",
      "Note: you may need to restart the kernel to use updated packages.\n"
     ]
    }
   ],
   "source": [
    "pip install xlrd"
   ]
  },
  {
   "cell_type": "code",
   "execution_count": 2,
   "id": "38da6215",
   "metadata": {},
   "outputs": [],
   "source": [
    "df=pd.read_excel('migration_data.xls')"
   ]
  },
  {
   "cell_type": "code",
   "execution_count": 3,
   "id": "69654413",
   "metadata": {},
   "outputs": [
    {
     "data": {
      "text/plain": [
       "Index(['Country/ Category Name', 'Country Code', 'Indicator Name',\n",
       "       'Indicator Code', '1960', '1961', '1962', '1963', '1964', '1965',\n",
       "       '1966', '1967', '1968', '1969', '1970', '1971', '1972', '1973', '1974',\n",
       "       '1975', '1976', '1977', '1978', '1979', '1980', '1981', '1982', '1983',\n",
       "       '1984', '1985', '1986', '1987', '1988', '1989', '1990', '1991', '1992',\n",
       "       '1993', '1994', '1995', '1996', '1997', '1998', '1999', '2000', '2001',\n",
       "       '2002', '2003', '2004', '2005', '2006', '2007', '2008', '2009', '2010',\n",
       "       '2011', '2012', '2013', '2014', '2015', '2016', '2017', '2018', '2019',\n",
       "       '2020', '2021'],\n",
       "      dtype='object')"
      ]
     },
     "execution_count": 3,
     "metadata": {},
     "output_type": "execute_result"
    }
   ],
   "source": [
    "df.columns"
   ]
  },
  {
   "cell_type": "code",
   "execution_count": 4,
   "id": "a2699f64",
   "metadata": {},
   "outputs": [],
   "source": [
    "df.drop(columns=['Country Code','Indicator Name','Indicator Code'], inplace=True)"
   ]
  },
  {
   "cell_type": "code",
   "execution_count": 5,
   "id": "1c6632f8",
   "metadata": {},
   "outputs": [
    {
     "data": {
      "text/html": [
       "<div>\n",
       "<style scoped>\n",
       "    .dataframe tbody tr th:only-of-type {\n",
       "        vertical-align: middle;\n",
       "    }\n",
       "\n",
       "    .dataframe tbody tr th {\n",
       "        vertical-align: top;\n",
       "    }\n",
       "\n",
       "    .dataframe thead th {\n",
       "        text-align: right;\n",
       "    }\n",
       "</style>\n",
       "<table border=\"1\" class=\"dataframe\">\n",
       "  <thead>\n",
       "    <tr style=\"text-align: right;\">\n",
       "      <th></th>\n",
       "      <th>Country/ Category Name</th>\n",
       "      <th>1960</th>\n",
       "      <th>1961</th>\n",
       "      <th>1962</th>\n",
       "      <th>1963</th>\n",
       "      <th>1964</th>\n",
       "      <th>1965</th>\n",
       "      <th>1966</th>\n",
       "      <th>1967</th>\n",
       "      <th>1968</th>\n",
       "      <th>...</th>\n",
       "      <th>2012</th>\n",
       "      <th>2013</th>\n",
       "      <th>2014</th>\n",
       "      <th>2015</th>\n",
       "      <th>2016</th>\n",
       "      <th>2017</th>\n",
       "      <th>2018</th>\n",
       "      <th>2019</th>\n",
       "      <th>2020</th>\n",
       "      <th>2021</th>\n",
       "    </tr>\n",
       "  </thead>\n",
       "  <tbody>\n",
       "    <tr>\n",
       "      <th>0</th>\n",
       "      <td>Aruba</td>\n",
       "      <td>0</td>\n",
       "      <td>-569</td>\n",
       "      <td>-609</td>\n",
       "      <td>-646</td>\n",
       "      <td>-684</td>\n",
       "      <td>-726</td>\n",
       "      <td>-761</td>\n",
       "      <td>-1175</td>\n",
       "      <td>-1219</td>\n",
       "      <td>...</td>\n",
       "      <td>229</td>\n",
       "      <td>134</td>\n",
       "      <td>88</td>\n",
       "      <td>177</td>\n",
       "      <td>170</td>\n",
       "      <td>218</td>\n",
       "      <td>367</td>\n",
       "      <td>412</td>\n",
       "      <td>0</td>\n",
       "      <td>501</td>\n",
       "    </tr>\n",
       "    <tr>\n",
       "      <th>1</th>\n",
       "      <td>Africa Eastern and Southern</td>\n",
       "      <td>-90849</td>\n",
       "      <td>-1348</td>\n",
       "      <td>-24259</td>\n",
       "      <td>-16266</td>\n",
       "      <td>37452</td>\n",
       "      <td>11041</td>\n",
       "      <td>-12060</td>\n",
       "      <td>4529</td>\n",
       "      <td>17992</td>\n",
       "      <td>...</td>\n",
       "      <td>-285231</td>\n",
       "      <td>-92842</td>\n",
       "      <td>-199608</td>\n",
       "      <td>394925</td>\n",
       "      <td>-864708</td>\n",
       "      <td>-343075</td>\n",
       "      <td>-366105</td>\n",
       "      <td>-187410</td>\n",
       "      <td>-48955</td>\n",
       "      <td>-179444</td>\n",
       "    </tr>\n",
       "    <tr>\n",
       "      <th>2</th>\n",
       "      <td>Afghanistan</td>\n",
       "      <td>2606</td>\n",
       "      <td>6109</td>\n",
       "      <td>7016</td>\n",
       "      <td>6681</td>\n",
       "      <td>7079</td>\n",
       "      <td>10695</td>\n",
       "      <td>3563</td>\n",
       "      <td>6824</td>\n",
       "      <td>3333</td>\n",
       "      <td>...</td>\n",
       "      <td>105905</td>\n",
       "      <td>48076</td>\n",
       "      <td>255611</td>\n",
       "      <td>-281739</td>\n",
       "      <td>-90238</td>\n",
       "      <td>-47090</td>\n",
       "      <td>-47205</td>\n",
       "      <td>-8082</td>\n",
       "      <td>166821</td>\n",
       "      <td>-183672</td>\n",
       "    </tr>\n",
       "    <tr>\n",
       "      <th>3</th>\n",
       "      <td>Africa Western and Central</td>\n",
       "      <td>-847</td>\n",
       "      <td>-41547</td>\n",
       "      <td>-36399</td>\n",
       "      <td>-37435</td>\n",
       "      <td>-45534</td>\n",
       "      <td>-15985</td>\n",
       "      <td>-21743</td>\n",
       "      <td>9625</td>\n",
       "      <td>-2360</td>\n",
       "      <td>...</td>\n",
       "      <td>-435876</td>\n",
       "      <td>-377305</td>\n",
       "      <td>-280418</td>\n",
       "      <td>-360393</td>\n",
       "      <td>-167286</td>\n",
       "      <td>-200823</td>\n",
       "      <td>-255888</td>\n",
       "      <td>-328552</td>\n",
       "      <td>-99761</td>\n",
       "      <td>-264802</td>\n",
       "    </tr>\n",
       "    <tr>\n",
       "      <th>4</th>\n",
       "      <td>Angola</td>\n",
       "      <td>-43749</td>\n",
       "      <td>-49186</td>\n",
       "      <td>-54566</td>\n",
       "      <td>-59777</td>\n",
       "      <td>-71948</td>\n",
       "      <td>-87288</td>\n",
       "      <td>-104955</td>\n",
       "      <td>-113780</td>\n",
       "      <td>-111222</td>\n",
       "      <td>...</td>\n",
       "      <td>96056</td>\n",
       "      <td>91528</td>\n",
       "      <td>84532</td>\n",
       "      <td>74170</td>\n",
       "      <td>91623</td>\n",
       "      <td>77733</td>\n",
       "      <td>61632</td>\n",
       "      <td>58986</td>\n",
       "      <td>7557</td>\n",
       "      <td>29089</td>\n",
       "    </tr>\n",
       "  </tbody>\n",
       "</table>\n",
       "<p>5 rows × 63 columns</p>\n",
       "</div>"
      ],
      "text/plain": [
       "        Country/ Category Name   1960   1961   1962   1963   1964   1965  \\\n",
       "0                        Aruba      0   -569   -609   -646   -684   -726   \n",
       "1  Africa Eastern and Southern -90849  -1348 -24259 -16266  37452  11041   \n",
       "2                  Afghanistan   2606   6109   7016   6681   7079  10695   \n",
       "3   Africa Western and Central   -847 -41547 -36399 -37435 -45534 -15985   \n",
       "4                       Angola -43749 -49186 -54566 -59777 -71948 -87288   \n",
       "\n",
       "     1966    1967    1968  ...    2012    2013    2014    2015    2016  \\\n",
       "0    -761   -1175   -1219  ...     229     134      88     177     170   \n",
       "1  -12060    4529   17992  ... -285231  -92842 -199608  394925 -864708   \n",
       "2    3563    6824    3333  ...  105905   48076  255611 -281739  -90238   \n",
       "3  -21743    9625   -2360  ... -435876 -377305 -280418 -360393 -167286   \n",
       "4 -104955 -113780 -111222  ...   96056   91528   84532   74170   91623   \n",
       "\n",
       "     2017    2018    2019    2020    2021  \n",
       "0     218     367     412       0     501  \n",
       "1 -343075 -366105 -187410  -48955 -179444  \n",
       "2  -47090  -47205   -8082  166821 -183672  \n",
       "3 -200823 -255888 -328552  -99761 -264802  \n",
       "4   77733   61632   58986    7557   29089  \n",
       "\n",
       "[5 rows x 63 columns]"
      ]
     },
     "execution_count": 5,
     "metadata": {},
     "output_type": "execute_result"
    }
   ],
   "source": [
    "df.head()"
   ]
  },
  {
   "cell_type": "code",
   "execution_count": 6,
   "id": "82b3e995",
   "metadata": {},
   "outputs": [],
   "source": [
    "#melt to unpivot the DataFrame from wide format to long format\n",
    "df_melted = pd.melt(df, id_vars=['Country/ Category Name'], var_name='Year', value_name='Value')"
   ]
  },
  {
   "cell_type": "code",
   "execution_count": 7,
   "id": "d0b916f8",
   "metadata": {},
   "outputs": [
    {
     "data": {
      "text/html": [
       "<div>\n",
       "<style scoped>\n",
       "    .dataframe tbody tr th:only-of-type {\n",
       "        vertical-align: middle;\n",
       "    }\n",
       "\n",
       "    .dataframe tbody tr th {\n",
       "        vertical-align: top;\n",
       "    }\n",
       "\n",
       "    .dataframe thead th {\n",
       "        text-align: right;\n",
       "    }\n",
       "</style>\n",
       "<table border=\"1\" class=\"dataframe\">\n",
       "  <thead>\n",
       "    <tr style=\"text-align: right;\">\n",
       "      <th></th>\n",
       "      <th>Country/ Category Name</th>\n",
       "      <th>Year</th>\n",
       "      <th>Value</th>\n",
       "    </tr>\n",
       "  </thead>\n",
       "  <tbody>\n",
       "    <tr>\n",
       "      <th>0</th>\n",
       "      <td>Aruba</td>\n",
       "      <td>1960</td>\n",
       "      <td>0</td>\n",
       "    </tr>\n",
       "    <tr>\n",
       "      <th>1</th>\n",
       "      <td>Africa Eastern and Southern</td>\n",
       "      <td>1960</td>\n",
       "      <td>-90849</td>\n",
       "    </tr>\n",
       "    <tr>\n",
       "      <th>2</th>\n",
       "      <td>Afghanistan</td>\n",
       "      <td>1960</td>\n",
       "      <td>2606</td>\n",
       "    </tr>\n",
       "    <tr>\n",
       "      <th>3</th>\n",
       "      <td>Africa Western and Central</td>\n",
       "      <td>1960</td>\n",
       "      <td>-847</td>\n",
       "    </tr>\n",
       "    <tr>\n",
       "      <th>4</th>\n",
       "      <td>Angola</td>\n",
       "      <td>1960</td>\n",
       "      <td>-43749</td>\n",
       "    </tr>\n",
       "    <tr>\n",
       "      <th>...</th>\n",
       "      <td>...</td>\n",
       "      <td>...</td>\n",
       "      <td>...</td>\n",
       "    </tr>\n",
       "    <tr>\n",
       "      <th>14193</th>\n",
       "      <td>Kosovo</td>\n",
       "      <td>2021</td>\n",
       "      <td>-15050</td>\n",
       "    </tr>\n",
       "    <tr>\n",
       "      <th>14194</th>\n",
       "      <td>Yemen, Rep.</td>\n",
       "      <td>2021</td>\n",
       "      <td>-101468</td>\n",
       "    </tr>\n",
       "    <tr>\n",
       "      <th>14195</th>\n",
       "      <td>South Africa</td>\n",
       "      <td>2021</td>\n",
       "      <td>10934</td>\n",
       "    </tr>\n",
       "    <tr>\n",
       "      <th>14196</th>\n",
       "      <td>Zambia</td>\n",
       "      <td>2021</td>\n",
       "      <td>9015</td>\n",
       "    </tr>\n",
       "    <tr>\n",
       "      <th>14197</th>\n",
       "      <td>Zimbabwe</td>\n",
       "      <td>2021</td>\n",
       "      <td>-25005</td>\n",
       "    </tr>\n",
       "  </tbody>\n",
       "</table>\n",
       "<p>14198 rows × 3 columns</p>\n",
       "</div>"
      ],
      "text/plain": [
       "            Country/ Category Name  Year   Value\n",
       "0                            Aruba  1960       0\n",
       "1      Africa Eastern and Southern  1960  -90849\n",
       "2                      Afghanistan  1960    2606\n",
       "3       Africa Western and Central  1960    -847\n",
       "4                           Angola  1960  -43749\n",
       "...                            ...   ...     ...\n",
       "14193                       Kosovo  2021  -15050\n",
       "14194                  Yemen, Rep.  2021 -101468\n",
       "14195                 South Africa  2021   10934\n",
       "14196                       Zambia  2021    9015\n",
       "14197                     Zimbabwe  2021  -25005\n",
       "\n",
       "[14198 rows x 3 columns]"
      ]
     },
     "execution_count": 7,
     "metadata": {},
     "output_type": "execute_result"
    }
   ],
   "source": [
    "df_melted"
   ]
  },
  {
   "cell_type": "code",
   "execution_count": 8,
   "id": "76c70fd5",
   "metadata": {},
   "outputs": [],
   "source": [
    "df_melted.to_excel('migrationData.xlsx', index=False)"
   ]
  },
  {
   "cell_type": "code",
   "execution_count": null,
   "id": "aa262225",
   "metadata": {},
   "outputs": [],
   "source": []
  },
  {
   "cell_type": "code",
   "execution_count": null,
   "id": "30007043",
   "metadata": {},
   "outputs": [],
   "source": []
  },
  {
   "cell_type": "code",
   "execution_count": null,
   "id": "37f7b15f",
   "metadata": {},
   "outputs": [],
   "source": []
  },
  {
   "cell_type": "code",
   "execution_count": null,
   "id": "4095e24c",
   "metadata": {},
   "outputs": [],
   "source": []
  },
  {
   "cell_type": "code",
   "execution_count": null,
   "id": "f2a89394",
   "metadata": {},
   "outputs": [],
   "source": []
  },
  {
   "cell_type": "code",
   "execution_count": null,
   "id": "6244d1b1",
   "metadata": {},
   "outputs": [],
   "source": []
  },
  {
   "cell_type": "code",
   "execution_count": null,
   "id": "e16aed2b",
   "metadata": {},
   "outputs": [],
   "source": []
  },
  {
   "cell_type": "code",
   "execution_count": null,
   "id": "cbe15cff",
   "metadata": {},
   "outputs": [],
   "source": []
  },
  {
   "cell_type": "code",
   "execution_count": null,
   "id": "3cc60192",
   "metadata": {},
   "outputs": [],
   "source": []
  },
  {
   "cell_type": "code",
   "execution_count": null,
   "id": "83f3dea8",
   "metadata": {},
   "outputs": [],
   "source": []
  },
  {
   "cell_type": "code",
   "execution_count": null,
   "id": "49bb824c",
   "metadata": {},
   "outputs": [],
   "source": []
  },
  {
   "cell_type": "code",
   "execution_count": null,
   "id": "ff75d8d3",
   "metadata": {},
   "outputs": [],
   "source": []
  },
  {
   "cell_type": "code",
   "execution_count": null,
   "id": "1ae39299",
   "metadata": {},
   "outputs": [],
   "source": []
  },
  {
   "cell_type": "code",
   "execution_count": null,
   "id": "8f837d24",
   "metadata": {},
   "outputs": [],
   "source": []
  },
  {
   "cell_type": "code",
   "execution_count": null,
   "id": "b7023c77",
   "metadata": {},
   "outputs": [],
   "source": []
  },
  {
   "cell_type": "code",
   "execution_count": null,
   "id": "6cebfe68",
   "metadata": {},
   "outputs": [],
   "source": []
  },
  {
   "cell_type": "code",
   "execution_count": null,
   "id": "e08897f8",
   "metadata": {},
   "outputs": [],
   "source": []
  },
  {
   "cell_type": "code",
   "execution_count": null,
   "id": "b4a26b9b",
   "metadata": {},
   "outputs": [],
   "source": []
  },
  {
   "cell_type": "code",
   "execution_count": null,
   "id": "b2346fd8",
   "metadata": {},
   "outputs": [],
   "source": []
  },
  {
   "cell_type": "code",
   "execution_count": null,
   "id": "87204535",
   "metadata": {},
   "outputs": [],
   "source": []
  },
  {
   "cell_type": "code",
   "execution_count": null,
   "id": "cbbbbfd6",
   "metadata": {},
   "outputs": [],
   "source": []
  },
  {
   "cell_type": "code",
   "execution_count": null,
   "id": "b26a957f",
   "metadata": {},
   "outputs": [],
   "source": []
  },
  {
   "cell_type": "code",
   "execution_count": null,
   "id": "8f6f6100",
   "metadata": {},
   "outputs": [],
   "source": []
  },
  {
   "cell_type": "code",
   "execution_count": null,
   "id": "9d9e9d62",
   "metadata": {},
   "outputs": [],
   "source": []
  },
  {
   "cell_type": "code",
   "execution_count": null,
   "id": "fcc24608",
   "metadata": {},
   "outputs": [],
   "source": []
  },
  {
   "cell_type": "code",
   "execution_count": null,
   "id": "8174187c",
   "metadata": {},
   "outputs": [],
   "source": []
  },
  {
   "cell_type": "code",
   "execution_count": null,
   "id": "a54eb444",
   "metadata": {},
   "outputs": [],
   "source": []
  },
  {
   "cell_type": "code",
   "execution_count": null,
   "id": "cab95e03",
   "metadata": {},
   "outputs": [],
   "source": []
  },
  {
   "cell_type": "code",
   "execution_count": null,
   "id": "513349c8",
   "metadata": {},
   "outputs": [],
   "source": []
  },
  {
   "cell_type": "code",
   "execution_count": null,
   "id": "df787d52",
   "metadata": {},
   "outputs": [],
   "source": []
  },
  {
   "cell_type": "code",
   "execution_count": null,
   "id": "8f2fa1a6",
   "metadata": {},
   "outputs": [],
   "source": []
  },
  {
   "cell_type": "code",
   "execution_count": null,
   "id": "a74e965c",
   "metadata": {},
   "outputs": [],
   "source": []
  },
  {
   "cell_type": "code",
   "execution_count": null,
   "id": "55152436",
   "metadata": {},
   "outputs": [],
   "source": []
  }
 ],
 "metadata": {
  "kernelspec": {
   "display_name": "Python 3 (ipykernel)",
   "language": "python",
   "name": "python3"
  },
  "language_info": {
   "codemirror_mode": {
    "name": "ipython",
    "version": 3
   },
   "file_extension": ".py",
   "mimetype": "text/x-python",
   "name": "python",
   "nbconvert_exporter": "python",
   "pygments_lexer": "ipython3",
   "version": "3.10.9"
  }
 },
 "nbformat": 4,
 "nbformat_minor": 5
}
